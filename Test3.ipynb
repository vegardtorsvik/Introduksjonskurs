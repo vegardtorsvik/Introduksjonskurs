{
 "cells": [
  {
   "cell_type": "markdown",
   "metadata": {},
   "source": [
    "Kode for å hente inn OPEN AI API-et."
   ]
  },
  {
   "cell_type": "code",
   "execution_count": 1,
   "metadata": {},
   "outputs": [],
   "source": [
    "import os\n",
    "import openai\n",
    "from dotenv import load_dotenv\n",
    "\n",
    "# Load environment variables\n",
    "load_dotenv()\n",
    "openai.api_key = os.getenv(\"OPENAI_API_KEY\")"
   ]
  },
  {
   "cell_type": "markdown",
   "metadata": {},
   "source": [
    "Modellen som analyserer teksten:"
   ]
  },
  {
   "cell_type": "code",
   "execution_count": 2,
   "metadata": {},
   "outputs": [],
   "source": [
    "def get_rating(prompt, model=\"gpt-4\"):\n",
    "    messages = [{\"role\": \"user\", \"content\": risk_prompt}]\n",
    "    response = openai.ChatCompletion.create(\n",
    "        model=model,\n",
    "        messages=messages,\n",
    "        temperature=0, # this is the degree of randomness of the model's output\n",
    "    )\n",
    "    return response.choices[0].message[\"content\"]"
   ]
  },
  {
   "cell_type": "code",
   "execution_count": 3,
   "metadata": {},
   "outputs": [],
   "source": [
    "def get_feedback(prompt, model=\"gpt-4\"):\n",
    "    messages = [{\"role\": \"user\", \"content\": feedback_prompt}]\n",
    "    response = openai.ChatCompletion.create(\n",
    "        model=model,\n",
    "        messages=messages,\n",
    "        temperature=0, # this is the degree of randomness of the model's output\n",
    "    )\n",
    "    return response.choices[0].message[\"content\"]"
   ]
  },
  {
   "cell_type": "markdown",
   "metadata": {},
   "source": [
    "Punktene fra Grønnvaskingsplakaten:"
   ]
  },
  {
   "cell_type": "code",
   "execution_count": 4,
   "metadata": {},
   "outputs": [],
   "source": [
    "model = \"\"\"\n",
    "Grønnvaskingsplakaten punkt 1: Vær ærlig og etterrettelig. Ikke bruk misvisende ord eller bilder, og ikke tilpass resultater fra tester og undersøkelser til egen fordel.\n",
    "Grønnvaskingsplakaten punkt 4: Unngå å skjule eller nedtone egne utslipp og negativ innvirkning på klima, natur og mennesker.\n",
    "Grønnvaskingsplakaten punkt 8: Vær forsiktig med uttrykk som “bedre for klimaet”, “bedre for naturen”, “bedre for miljøet”, etc. hvis du ikke kan vise til konkrete tall og resultater.\n",
    "Grønnvaskingsplakaten punkt 10: Vær forsiktig med å bruke donasjoner og sponsorater som bevis på at du jobber med bærekraft.\n",
    "\"\"\""
   ]
  },
  {
   "cell_type": "markdown",
   "metadata": {},
   "source": [
    "Teksten som analyseres:"
   ]
  },
  {
   "cell_type": "code",
   "execution_count": 5,
   "metadata": {},
   "outputs": [],
   "source": [
    "mid_GW = \"\"\"Vi er stolte av å kunngjøre lanseringen av vårt innovative produkt, som vil revolusjonere markedet og sette standarden for bærekraftig utvikling. \n",
    "\n",
    "Med fokus på miljøvern og bærekraftige løsninger tar vi ansvar for å redusere vår karbonavtrykk og bidra til en grønnere fremtid. \n",
    "\n",
    "Vårt nye produkt vil gi forbrukerne en mulighet til å velge en mer miljøvennlig livsstil uten å gå på kompromiss med kvalitet og effektivitet.\n",
    "\n",
    "Ved utviklingen av vårt produkt har vi lagt stor vekt på bærekraftige produksjonsmetoder og materialvalg. \n",
    "\n",
    "Vi har implementert innovative teknologier som reduserer energiforbruket og ressursbruken betydelig. \n",
    "\n",
    "Våre produksjonsanlegg er utstyrt med toppmoderne utslippskontrollsystemer og avanserte rensemetoder for å minimere vårt økologiske fotavtrykk.\n",
    "\n",
    "Vi er stolte av å kunne si at produktet vårt er laget av resirkulerte og fornybare materialer. \n",
    "\n",
    "Ved å bruke sirkulære og kretsløpsøkonomiske prinsipper har vi redusert behovet for ny produksjon av råvarer og redusert avfallsmengden betydelig. \n",
    "\n",
    "Våre materialvalg er nøye utvalgt for å sikre høy kvalitet, lang levetid og minimal miljøpåvirkning gjennom hele produktets livssyklus.\n",
    "\n",
    "Vårt produkt er designet for å være energieffektivt og bidra til betydelige ressursbesparelser. \n",
    "\n",
    "Gjennom bruk av avanserte teknologiske løsninger har vi redusert strømforbruket og optimalisert effektiviteten. \n",
    "\n",
    "Dette bidrar til lavere energikostnader for forbrukerne og en reduksjon av den totale miljøbelastningen. \n",
    "\n",
    "Vårt produkt er også utstyrt med smarte funksjoner som automatisk justerer seg etter omgivelsene for å minimere unødvendig energiforbruk.\n",
    "\n",
    "Vi har også implementert ressursbesparende tiltak i hele produksjons- og distribusjonsprosessen. \n",
    "\n",
    "Fra reduksjon av vannforbruk og avfallsgenerering til optimalisering av forsyningskjeden for å minimere transportavstander, tar vi bærekraft på alvor. \n",
    "\n",
    "Vårt mål er å skape et produkt som ikke bare oppfyller forbrukernes behov, men også tar hensyn til planetens fremtid.\n",
    "\n",
    "Ved å designe vårt produkt med fokus på holdbarhet og lang levetid, ønsker vi å redusere behovet for hyppig utskifting. \n",
    "\n",
    "Vi bruker høykvalitetskomponenter som er nøye testet for å sikre langvarig bruk og minimal slitasje over tid. \n",
    "\n",
    "ette betyr at forbrukerne kan nyte produktet vårt i mange år fremover, samtidig som behovet for ny produksjon reduseres.\n",
    "\n",
    "Når levetiden på produktet til slutt er over, er det viktig å sikre at det kan resirkuleres på en effektiv måte. \n",
    "\n",
    "Vi har etablert et nettverk av resirkuleringsstasjoner der forbrukerne kan levere tilbake produktet for forsvarlig gjenvinning. \n",
    "\n",
    "Materialene som brukes i produksjonen av vårt produkt er utformet for å være enkle å skille og resirkulere, noe som gjør det mulig å gi dem nytt liv og redusere behovet for å utvinne nye ressurser.\n",
    "\n",
    "Vi er stolte over vårt nye produkt og engasjementet vårt for en grønnere fremtid. \n",
    "\n",
    "Ved å prioritere bærekraftige produksjonsmetoder, energi- og ressursbesparelser, samt lang levetid og resirkulerbarhet, tar vi aktive skritt mot å redusere vår påvirkning på miljøet. \n",
    "\n",
    "Vi oppfordrer alle forbrukere til å bli med oss på denne reisen mot en mer bærekraftig verden.\"\"\""
   ]
  },
  {
   "cell_type": "code",
   "execution_count": 6,
   "metadata": {},
   "outputs": [],
   "source": [
    "no_GW = \"\"\"Vårt nye produkt, \"PureGreen Vaskepulver\", er resultatet av mange års forskning og utvikling innen miljøvennlig rengjøringsteknologi. \n",
    "\n",
    "Vi har klart å skape et vaskemiddel som ikke bare er effektivt på tøffe flekker, men som også er snill mot miljøet. \n",
    "\n",
    "PureGreen inneholder biologisk nedbrytbare ingredienser som er hentet på en bærekraftig måte. \n",
    "\n",
    "Hver ingrediens i vår formel er klart listet opp på pakken, sammen med en forklaring på hvordan den bidrar til miljøvennligheten av produktet.\n",
    "\n",
    "PureGreen Vaskepulver er produsert i vår CO2-nøytrale fabrikk, noe vi er svært stolte av. \n",
    "\n",
    "Alle våre miljøvennlige tiltak, fra produksjonsprosessen til forpakningen, er dokumentert og verifisert av anerkjente miljøsertifiseringsorganisasjoner. \n",
    "\n",
    "Sertifiseringene inkluderer Green Seal og EU Ecolabel, som er anerkjent for strenge miljøstandarder. \n",
    "\n",
    "Vi deler transparent våre fremgangsmåter og vi unngår å overdrive de positive effektene av vårt produkt. \n",
    "\n",
    "Vi er dedikerte til å være åpne og ærlige med våre kunder, slik at du kan føle deg trygg på at når du velger PureGreen, tar du et virkelig miljøvennlig valg.\"\"\""
   ]
  },
  {
   "cell_type": "code",
   "execution_count": 7,
   "metadata": {},
   "outputs": [],
   "source": [
    "irrelevant_text = \"\"\"Fra øyeblikket jeg steg inn i La Bella Vita, ble jeg raskt tatt med til de vakre landskapene i Italia, både gjennom den varme og innbydende atmosfæren og de deilige duftene som fylte luften. Plassert i hjertet av Bergen, er denne restauranten et autentisk uttrykk for italiensk mat og kultur.\n",
    "\n",
    "Maten her er ikke mindre enn utmerket. Fra de rike og robuste smakene av deres signatur osso buco, til den friske og levende Caprese-salaten, klarte hvert rett å imponere. Den hjemmelagde pastaen er et must-try, perfekt tilberedt al dente hver gang, og badet i en rekke sauser som får munnen til å vann.\n",
    "\n",
    "Vinkartet til La Bella Vita er omfattende, med flotte alternativer fra alle regioner i Italia. De har også en imponerende samling av grappa og amari, for de som ønsker å avslutte måltidet på ekte italiensk vis.\"\"\""
   ]
  },
  {
   "cell_type": "code",
   "execution_count": 8,
   "metadata": {},
   "outputs": [],
   "source": [
    "high_GW = \"\"\"Vi introduserer vår revolusjonerende \"EcoPower Batteri\", det mest miljøvennlige batteriet på markedet! Vi har harneskert uendelig energi fra Moder Jord selv for å skape dette magiske produktet. Hver EcoPower-batteri er infusert med grønn kraft som er hentet direkte fra naturen. Når du velger EcoPower, velger du å redde planeten vår.\n",
    "\n",
    "Vårt EcoPower Batteri har mottatt mange priser og anerkjennelse for sitt banebrytende arbeid innen miljøvern. Ingen andre batterier kan sammenlignes med den grønne kraften til EcoPower. Ved å bytte til vårt batteri, kan du være trygg på at du gjør det absolutt beste for miljøet. La oss sammen kjempe for en grønnere fremtid med EcoPower Batteri!\"\"\""
   ]
  },
  {
   "cell_type": "markdown",
   "metadata": {},
   "source": [
    "Prompten til modellen:"
   ]
  },
  {
   "cell_type": "code",
   "execution_count": 16,
   "metadata": {},
   "outputs": [],
   "source": [
    "risk_prompt = f\"\"\"\n",
    "Vurder hvor godt teksten oppfyller kravene i punkt 1, 4, 8, og 10 i Grønnvaskingsplakaten. Gi en overordnet risikovurdering for grønnvasking basert på teksten, samt en individuell risikovurdering for hvert av de fire punktene. Hvis du er usikker, skal du respondere med \"Hmm.. Dette vet jeg ikke\" og ikke improvisere et svar.\n",
    "\n",
    "Hvis teksten tilsynelatende ikke har noe med bærekraftsarbeid i organisasjoner å gjøre, skriv \"Hmm.. Dette er ikke en tekst jeg gjenkjenner. Prøv igjen.\"\n",
    "\n",
    "Bruk strenge kriterier for risikovurderingene; det krever mye for å oppnå \"Lav\" og tilsvarende ekstremt god dokumentasjon for å oppnå \"Ingen\". Legg spesielt vekt på om teksten gir konkrete tall eller detaljer til sine utsagn. Returner svaret i følgende format:\n",
    "\n",
    "Overordnet risiko for grønnvasking: (Ikke relevant / Ingen / Lav / Moderat / Høy)\n",
    "Risiko for brudd på punkt 1: (Ikke relevant / Ingen /  Lav / Moderat / Høy)\n",
    "Risiko for brudd på punkt 4: (Ikke relevant / Ingen /  Lav / Moderat / Høy)\n",
    "Risiko for brudd på punkt 8: (Ikke relevant / Ingen /  Lav / Moderat / Høy)\n",
    "Risiko for brudd på punkt 10: (Ikke relevant / Ingen /  Lav / Moderat / Høy) \n",
    "\n",
    "Punktene i grønnvaskingsmodellen er: ```{model}```\n",
    "\n",
    "Bruk maks 100 ord\n",
    "\"\"\"\n"
   ]
  },
  {
   "cell_type": "code",
   "execution_count": 17,
   "metadata": {},
   "outputs": [],
   "source": [
    "feedback_prompt = f\"\"\"\n",
    "Vurder hvor godt teksten oppfyller kravene i punkt 1, 4, 8, og 10 i Grønnvaskingsplakaten. Gi en overordnet tilbakemelding for grønnvasking basert på teksten, samt en individuell tilbakemelding for forbedringspunkter for hvert av de fire punktene. Hvis du er usikker, skal du respondere med \"Hmm.. Dette vet jeg ikke\" og ikke improvisere et svar.\n",
    "\n",
    "Hvis teksten tilsynelatende ikke har noe med bærekraftsarbeid i organisasjoner å gjøre, skriv \"Hmm.. Dette er ikke en tekst jeg gjenkjenner. Prøv igjen.\"\n",
    "\n",
    "Legg spesielt vekt på om teksten gir konkrete tall eller detaljer til sine utsagn. \n",
    "\n",
    "Punktene i grønnvaskingsmodellen er: ```{model}```\n",
    "\n",
    "Teksten er: ```{text}```\n",
    "\n",
    "Bruk maks 250 ord\n",
    "\"\"\"\n"
   ]
  },
  {
   "cell_type": "code",
   "execution_count": 18,
   "metadata": {},
   "outputs": [
    {
     "name": "stdout",
     "output_type": "stream",
     "text": [
      "Overordnet risiko for grønnvasking: Høy\n",
      "Risiko for brudd på punkt 1: Høy (Bruk av vage og misvisende uttrykk som \"uendelig energi\" og \"magisk produkt\")\n",
      "Risiko for brudd på punkt 4: Moderat (Ingen informasjon om eventuelle negative effekter)\n",
      "Risiko for brudd på punkt 8: Høy (Bruk av uttrykk som \"mest miljøvennlige\" uten konkrete tall)\n",
      "Risiko for brudd på punkt 10: Ikke relevant (Ingen omtale av donasjoner eller sponsorater)\n",
      "Overordnet tilbakemelding: Teksten gir inntrykk av grønnvasking da den bruker sterke, positive uttrykk om sitt produkt uten å gi konkrete tall eller detaljer som støtter påstandene. \n",
      "\n",
      "Punkt 1: Teksten er ikke etterrettelig da den bruker vage og misvisende uttrykk som \"uendelig energi fra Moder Jord\" og \"grønn kraft\". Det er ingen konkrete detaljer eller bevis som støtter disse påstandene. \n",
      "\n",
      "Punkt 4: Teksten unngår å nevne eventuelle negative innvirkninger produktet kan ha på klima, natur og mennesker. Det er ingen informasjon om produksjonsprosessen, materialene som brukes, eller avfallshåndtering.\n",
      "\n",
      "Punkt 8: Teksten bruker uttrykk som \"det mest miljøvennlige batteriet på markedet\" og \"det absolutt beste for miljøet\" uten å gi konkrete tall eller resultater som støtter disse påstandene. \n",
      "\n",
      "Punkt 10: Teksten nevner at produktet har mottatt mange priser og anerkjennelse, men det er ikke klart om dette er brukt som bevis på at de jobber med bærekraft. Det er heller ingen informasjon om eventuelle donasjoner eller sponsorater.\n"
     ]
    }
   ],
   "source": [
    "text = high_GW\n",
    "\n",
    "risk = get_rating(risk_prompt)\n",
    "\n",
    "feedback = get_feedback(feedback_prompt)\n",
    "\n",
    "print(risk)\n",
    "\n",
    "print(feedback)"
   ]
  },
  {
   "cell_type": "code",
   "execution_count": null,
   "metadata": {},
   "outputs": [],
   "source": []
  }
 ],
 "metadata": {
  "kernelspec": {
   "display_name": ".venv",
   "language": "python",
   "name": "python3"
  },
  "language_info": {
   "codemirror_mode": {
    "name": "ipython",
    "version": 3
   },
   "file_extension": ".py",
   "mimetype": "text/x-python",
   "name": "python",
   "nbconvert_exporter": "python",
   "pygments_lexer": "ipython3",
   "version": "3.10.11"
  },
  "orig_nbformat": 4
 },
 "nbformat": 4,
 "nbformat_minor": 2
}
