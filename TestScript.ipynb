{
 "cells": [
  {
   "cell_type": "markdown",
   "metadata": {},
   "source": [
    "Code-snippet to access the OPEN AI API"
   ]
  },
  {
   "cell_type": "code",
   "execution_count": 32,
   "metadata": {},
   "outputs": [],
   "source": [
    "import openai\n",
    "import os\n",
    "\n",
    "from dotenv import load_dotenv, find_dotenv\n",
    "\n",
    "_ = load_dotenv(find_dotenv()) # read local .env file\n",
    "\n",
    "openai.api_key  = os.getenv('OPENAI_API_KEY') # Remember to save the OpenAI API key as an environment variable under the name of \"OPENAI_API_KEY\"\n"
   ]
  },
  {
   "cell_type": "markdown",
   "metadata": {},
   "source": [
    "Setting up the text-analyzer, using the template from Deeplearning:"
   ]
  },
  {
   "cell_type": "code",
   "execution_count": 33,
   "metadata": {},
   "outputs": [],
   "source": [
    "def get_TextEvaluation(text, prompt, model = \"gpt-4\", temperature = 0, max_tokens = 400):\n",
    "    messages = [{\"role\": \"system\"   , \"content\": prompt}, \n",
    "                {\"role\": \"user\"     , \"content\": text}]\n",
    "    response = openai.ChatCompletion.create(\n",
    "        model = model,\n",
    "        messages = messages,\n",
    "        temperature = temperature, # this is the degree of randomness of the model's output\n",
    "        max_tokens = max_tokens,\n",
    "    )\n",
    "    return response.choices[0].message[\"content\"]"
   ]
  },
  {
   "cell_type": "markdown",
   "metadata": {},
   "source": [
    "Setting up the rating-analyzer:"
   ]
  },
  {
   "cell_type": "code",
   "execution_count": 34,
   "metadata": {},
   "outputs": [],
   "source": [
    "def get_RiskEvaluation(text, prompt, model = \"gpt-4\", temperature = 0, max_tokens = 300):\n",
    "    messages = [{\"role\": \"system\"   , \"content\": prompt}, \n",
    "                {\"role\": \"user\"     , \"content\": text}]\n",
    "    response = openai.ChatCompletion.create(\n",
    "        model = model,\n",
    "        messages = messages,\n",
    "        temperature = temperature, # this is the degree of randomness of the model's output\n",
    "        max_tokens = max_tokens,\n",
    "    )\n",
    "    return response.choices[0].message[\"content\"]"
   ]
  },
  {
   "cell_type": "markdown",
   "metadata": {},
   "source": [
    "Setting the criterias for evaluation:"
   ]
  },
  {
   "cell_type": "code",
   "execution_count": 35,
   "metadata": {},
   "outputs": [],
   "source": [
    "criteria = \"\"\"\n",
    "Grønnvaskingsplakaten punkt 1: Vær ærlig og etterrettelig. Ikke bruk misvisende ord eller bilder, og ikke tilpass resultater fra tester og undersøkelser til egen fordel.\n",
    "Grønnvaskingsplakaten punkt 4: Unngå å skjule eller nedtone egne utslipp og negativ innvirkning på klima, natur og mennesker.\n",
    "Grønnvaskingsplakaten punkt 8: Vær forsiktig med uttrykk som “bedre for klimaet”, “bedre for naturen”, “bedre for miljøet”, etc. hvis du ikke kan vise til konkrete tall og resultater.\n",
    "Grønnvaskingsplakaten punkt 10: Vær forsiktig med å bruke donasjoner og sponsorater som bevis på at du jobber med bærekraft.\n",
    "\"\"\""
   ]
  },
  {
   "cell_type": "markdown",
   "metadata": {},
   "source": [
    "Setting the baseline text and rating evaluation prompts:"
   ]
  },
  {
   "cell_type": "code",
   "execution_count": 36,
   "metadata": {},
   "outputs": [],
   "source": [
    "text_eval_prompt = f\"\"\"\n",
    "Vurder hvor godt teksten oppfyller kravene i punkt 1, 4, 8, og 10 i Grønnvaskingsplakaten. \\\n",
    "Gi en overordnet tilbakemelding for grønnvasking basert på teksten, samt en individuell tilbakemelding for forbedringspunkter for hvert av de fire punktene. \\\n",
    "Hvis du er usikker, skal du respondere med \"Hmm.. Dette vet jeg ikke\" og ikke improvisere et svar.\n",
    "\n",
    "Hvis teksten tilsynelatende ikke har noe med bærekraftsarbeid i organisasjoner å gjøre, skriv \"Hmm.. Dette er ikke en tekst jeg gjenkjenner. Prøv igjen.\"\n",
    "\n",
    "Legg spesielt vekt på om teksten gir konkrete tall eller detaljer til sine utsagn. \n",
    "\n",
    "Punktene i grønnvaskingsmodellen er: ```{criteria}```\n",
    "\n",
    "Bruk maks 350 ord\n",
    "\"\"\""
   ]
  },
  {
   "cell_type": "code",
   "execution_count": 37,
   "metadata": {},
   "outputs": [],
   "source": [
    "risk_prompt = f\"\"\"\n",
    "Vurder hvor godt teksten oppfyller kravene i punkt 1, 4, 8, og 10 i Grønnvaskingsplakaten. \\\n",
    "Gi en overordnet risikovurdering for grønnvasking basert på teksten, samt en individuell risikovurdering for hvert av de fire punktene. \\\n",
    "Hvis du er usikker, skal du respondere med \"Hmm.. Dette vet jeg ikke\" og ikke improvisere et svar.\n",
    "\n",
    "Hvis teksten tilsynelatende ikke har noe med bærekraftsarbeid i organisasjoner å gjøre, skriv \"Hmm.. Dette er ikke en tekst jeg gjenkjenner. Prøv igjen.\"\n",
    "\n",
    "Bruk strenge kriterier for risikovurderingene; det krever mye for å oppnå \"Lav\" og tilsvarende ekstremt god dokumentasjon for å oppnå \"Ingen\". \\\n",
    "Legg spesielt vekt på om teksten gir konkrete tall eller detaljer til sine utsagn. Returner svaret i følgende format:\n",
    "\n",
    "Overordnet risiko for grønnvasking: (Ikke relevant / Ingen / Lav / Moderat / Høy)\n",
    "Risiko for brudd på punkt 1: (Ikke relevant / Ingen /  Lav / Moderat / Høy)\n",
    "Risiko for brudd på punkt 4: (Ikke relevant / Ingen /  Lav / Moderat / Høy)\n",
    "Risiko for brudd på punkt 8: (Ikke relevant / Ingen /  Lav / Moderat / Høy)\n",
    "Risiko for brudd på punkt 10: (Ikke relevant / Ingen /  Lav / Moderat / Høy) \n",
    "\n",
    "Punktene i grønnvaskingsmodellen er: ```{criteria}```\n",
    "\n",
    "Bruk maks 100 ord.\n",
    "\"\"\""
   ]
  },
  {
   "cell_type": "markdown",
   "metadata": {},
   "source": [
    "Inserting example-texts from user-message:"
   ]
  },
  {
   "cell_type": "code",
   "execution_count": 38,
   "metadata": {},
   "outputs": [],
   "source": [
    "high = 'Vi introduserer vår revolusjonerende \"EcoPower Batteri\", det \\\n",
    "mest miljøvennlige batteriet på markedet! Vi har harneskert uendelig energi \\\n",
    "fra Moder Jord selv for å skape dette magiske produktet. Hver EcoPower-batteri \\\n",
    "er infusert med grønn kraft som er hentet direkte fra naturen. Når du velger \\\n",
    "EcoPower, velger du å redde planeten vår. \\\n",
    "Vårt EcoPower Batteri har mottatt mange priser og anerkjennelse \\\n",
    "for sitt banebrytende arbeid innen miljøvern. \\\n",
    "Ingen andre batterier kan sammenlignes med den grønne \\\n",
    "kraften til EcoPower. Ved å bytte til vårt batteri, \\\n",
    "kan du være trygg på at du gjør det absolutt beste \\\n",
    "for miljøet. La oss sammen kjempe for en grønnere \\\n",
    "fremtid med EcoPower Batteri!'"
   ]
  },
  {
   "cell_type": "code",
   "execution_count": 39,
   "metadata": {},
   "outputs": [],
   "source": [
    "low = 'Vårt nye produkt, \"PureGreen Vaskepulver\", er resultatet av mange års forskning og utvikling innen miljøvennlig rengjøringsteknologi. \\\n",
    "Vi har klart å skape et vaskemiddel som ikke bare er effektivt på tøffe flekker, men som også er snill mot miljøet. PureGreen inneholder \\\n",
    "biologisk nedbrytbare ingredienser som er hentet på en bærekraftig måte. Hver ingrediens i vår formel er klart listet opp på pakken, sammen \\\n",
    "med en forklaring på hvordan den bidrar til miljøvennligheten av produktet.PureGreen Vaskepulver er produsert i vår CO2-nøytrale fabrikk, \\\n",
    "noe vi er svært stolte av. Alle våre miljøvennlige tiltak, fra produksjonsprosessen til forpakningen, er dokumentert og verifisert av \\\n",
    "anerkjente miljøsertifiseringsorganisasjoner. Sertifiseringene inkluderer Green Seal og EU Ecolabel, som er anerkjent for strenge miljøstandarder. \\\n",
    "Vi deler transparent våre fremgangsmåter og vi unngår å overdrive de positive effektene av vårt produkt. Vi er dedikerte til å være åpne og \\\n",
    "ærlige med våre kunder, slik at du kan føle deg trygg på at når du velger PureGreen, tar du et virkelig miljøvennlig valg.'"
   ]
  },
  {
   "cell_type": "code",
   "execution_count": 40,
   "metadata": {},
   "outputs": [],
   "source": [
    "irrelevant = 'Fra øyeblikket jeg steg inn i La Bella Vita, ble jeg raskt tatt med til de vakre landskapene i Italia, både gjennom den varme \\\n",
    "og innbydende atmosfæren og de deilige duftene som fylte luften. Plassert i hjertet av Bergen, er denne restauranten et autentisk uttrykk for \\\n",
    "italiensk mat og kultur. Maten her er ikke mindre enn utmerket. Fra de rike og robuste smakene av deres signatur osso buco, til den friske og \\\n",
    "levende Caprese-salaten, klarte hvert rett å imponere. Den hjemmelagde pastaen er et must-try, perfekt tilberedt al dente hver gang, og badet i \\\n",
    "en rekke sauser som får munnen til å vann. Vinkartet til La Bella Vita er omfattende, med flotte alternativer fra alle regioner i Italia. \\\n",
    "De har også en imponerende samling av grappa og amari, for de som ønsker å avslutte måltidet på ekte italiensk vis.'"
   ]
  },
  {
   "cell_type": "code",
   "execution_count": 41,
   "metadata": {},
   "outputs": [],
   "source": [
    "def trigger(text, text_prompt, rist_prompt):\n",
    "    output2 = get_TextEvaluation(text, text_prompt)\n",
    "\n",
    "    output1 = get_RiskEvaluation(text, risk_prompt)\n",
    "    \n",
    "    if output1 == \"Hmm.. Dette er ikke en tekst jeg gjenkjenner. Prøv igjen.\":\n",
    "        return output1\n",
    "    else:\n",
    "        return output1 + \"\\n\\n\" + output2"
   ]
  },
  {
   "cell_type": "markdown",
   "metadata": {},
   "source": [
    "Printing Examples:"
   ]
  },
  {
   "cell_type": "code",
   "execution_count": 42,
   "metadata": {},
   "outputs": [
    {
     "name": "stdout",
     "output_type": "stream",
     "text": [
      "Overordnet risiko for grønnvasking: Lav\n",
      "Risiko for brudd på punkt 1: Lav\n",
      "Risiko for brudd på punkt 4: Lav\n",
      "Risiko for brudd på punkt 8: Lav\n",
      "Risiko for brudd på punkt 10: Ikke relevant\n",
      "\n",
      "Overordnet sett oppfyller teksten kravene i Grønnvaskingsplakaten godt. Den gir konkrete detaljer og tall, og unngår å bruke misvisende ord eller bilder.\n",
      "\n",
      "Punkt 1: Teksten er ærlig og etterrettelig. Den gir konkrete detaljer om produktet, inkludert ingrediensene og hvordan de bidrar til miljøvennligheten. Den nevner også at produktet er verifisert av anerkjente miljøsertifiseringsorganisasjoner. For å forbedre, kunne teksten ha inkludert mer detaljert informasjon om testresultater og undersøkelser.\n",
      "\n",
      "Punkt 4: Teksten unngår å skjule eller nedtone egne utslipp og negativ innvirkning på klima, natur og mennesker. Den nevner at produktet er produsert i en CO2-nøytral fabrikk. For å forbedre, kunne teksten ha inkludert mer informasjon om eventuelle negative effekter av produksjonen.\n",
      "\n",
      "Punkt 8: Teksten er forsiktig med uttrykk som \"bedre for klimaet\", \"bedre for naturen\", \"bedre for miljøet\", etc. Den gir konkrete detaljer om hvordan produktet er miljøvennlig. For å forbedre, kunne teksten ha inkludert mer konkrete tall og resultater.\n",
      "\n",
      "Punkt 10: Teksten bruker ikke donasjoner og sponsorater som bevis på at de jobber med bærekraft. Det er ingen forbedringspunkter for dette punktet basert på teksten.\n"
     ]
    }
   ],
   "source": [
    "print(trigger(low, text_eval_prompt, risk_prompt))\n"
   ]
  }
 ],
 "metadata": {
  "kernelspec": {
   "display_name": ".venv",
   "language": "python",
   "name": "python3"
  },
  "language_info": {
   "codemirror_mode": {
    "name": "ipython",
    "version": 3
   },
   "file_extension": ".py",
   "mimetype": "text/x-python",
   "name": "python",
   "nbconvert_exporter": "python",
   "pygments_lexer": "ipython3",
   "version": "3.10.11"
  },
  "orig_nbformat": 4
 },
 "nbformat": 4,
 "nbformat_minor": 2
}
