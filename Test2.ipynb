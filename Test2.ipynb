{
 "cells": [
  {
   "cell_type": "markdown",
   "metadata": {},
   "source": [
    "Kode for å hente inn OPEN AI API-et."
   ]
  },
  {
   "cell_type": "code",
   "execution_count": 63,
   "metadata": {},
   "outputs": [],
   "source": [
    "import os\n",
    "import openai\n",
    "from dotenv import load_dotenv\n",
    "\n",
    "# Load environment variables\n",
    "load_dotenv()\n",
    "openai.api_key = os.getenv(\"OPENAI_API_KEY\")"
   ]
  },
  {
   "cell_type": "markdown",
   "metadata": {},
   "source": [
    "Prompt for modellen. Fungerer for å sette kontekst til analysen."
   ]
  },
  {
   "cell_type": "code",
   "execution_count": 64,
   "metadata": {},
   "outputs": [],
   "source": [
    "prompt_template = f'''Gitt følgende brukertekst, vurder hvor godt den oppfyller kravene i punkt 1, 4, 8, og 10 i Grønnvaskingsplakaten. Gi en overordnet risikovurdering for grønnvasking basert på teksten, samt en individuell risikovurdering for hvert av de fire punktene. Hvis du er usikker, skal du respondere med \"Hmm.. Dette vet jeg ikke\" og ikke improvisere et svar.\n",
    "\n",
    "Hvis teksten tilsynelatende ikke har noe med bærekraftsarbeid i organisasjoner å gjøre, skriv \"Hmm.. Dette er ikke en tekst jeg gjenkjenner. Prøv igjen.\"\n",
    "\n",
    "Bruk strenge kriterier for risikovurderingene; det krever mye for å oppnå \"Lav\" og tilsvarende ekstremt god dokumentasjon for å oppnå \"Ingen\". Legg spesielt vekt på om teksten gir konkrete tall eller detaljer til sine utsagn. Returner svaret i følgende format:\n",
    "\n",
    "Overordnet risiko for grønnvasking: (Ikke relevant / Ingen / Lav / Moderat / Høy)\n",
    "Risiko for brudd på punkt 1: (Ikke relevant / Ingen /  Lav / Moderat / Høy)\n",
    "Risiko for brudd på punkt 4: (Ikke relevant / Ingen /  Lav / Moderat / Høy)\n",
    "Risiko for brudd på punkt 8: (Ikke relevant / Ingen /  Lav / Moderat / Høy)\n",
    "Risiko for brudd på punkt 10: (Ikke relevant / Ingen /  Lav / Moderat / Høy)\n",
    "\n",
    "Se en oversikt over de fire punktene nedenfor:\n",
    "\n",
    "Grønnvaskingsplakaten punkt 1: Vær ærlig og etterrettelig. Ikke bruk misvisende ord eller bilder, og ikke tilpass resultater fra tester og undersøkelser til egen fordel.\n",
    "Grønnvaskingsplakaten punkt 4: Unngå å skjule eller nedtone egne utslipp og negativ innvirkning på klima, natur og mennesker.\n",
    "Grønnvaskingsplakaten punkt 8: Vær forsiktig med uttrykk som “bedre for klimaet”, “bedre for naturen”, “bedre for miljøet”, etc. hvis du ikke kan vise til konkrete tall og resultater.\n",
    "Grønnvaskingsplakaten punkt 10: Vær forsiktig med å bruke donasjoner og sponsorater som bevis på at du jobber med bærekraft.\n",
    "\n",
    "Husk, denne veiledningen er ment som det - en veiledning. Det er ikke en endelig fasit, og mer informasjon kan finnes på https://gronnvasking.no/.'''"
   ]
  },
  {
   "cell_type": "markdown",
   "metadata": {},
   "source": [
    "Funksjonen for evaluering av tekst:"
   ]
  },
  {
   "cell_type": "code",
   "execution_count": 70,
   "metadata": {},
   "outputs": [],
   "source": [
    "def get_rating(text):\n",
    "    response = openai.Completion.create(\n",
    "        engine=\"text-davinci-002\",\n",
    "        prompt=f\"{prompt_template}. Teksten er {text}\",\n",
    "        temperature=0.2,\n",
    "        max_tokens=500,\n",
    "        top_p=1,\n",
    "        frequency_penalty=0,\n",
    "        presence_penalty=0\n",
    "    )\n",
    "\n",
    "    rating = response.choices[0].text.strip()\n",
    "    return rating"
   ]
  },
  {
   "cell_type": "markdown",
   "metadata": {},
   "source": [
    "For enkelttekst brukes koden under:"
   ]
  },
  {
   "cell_type": "code",
   "execution_count": 72,
   "metadata": {},
   "outputs": [
    {
     "name": "stdout",
     "output_type": "stream",
     "text": [
      "Risikoen for denne teksten er: ikke nødvendigvis en grønnvaske-tekst.\n",
      "\n",
      "Hmm.. Dette er ikke en tekst jeg gjenkjenner. Prøv igjen.\n"
     ]
    }
   ],
   "source": [
    "if __name__ == \"__main__\":\n",
    "    text = input(\"Enter the text to analyze: \")\n",
    "    risk = get_rating(text)\n",
    "    print(f\"Risikoen for denne teksten er: {risk}\")"
   ]
  },
  {
   "cell_type": "markdown",
   "metadata": {},
   "source": [
    "For flere tekster brukes kodene under:"
   ]
  },
  {
   "cell_type": "code",
   "execution_count": 37,
   "metadata": {},
   "outputs": [],
   "source": [
    "def analyze_text():\n",
    "    try:\n",
    "        while True:\n",
    "            text = input(\"\\nEnter the text to analyze (type 'quit' to exit): \")\n",
    "            if text.lower() == \"quit\":\n",
    "                print(\"Exiting the program...\")\n",
    "            else :\n",
    "                rating = get_rating(text)\n",
    "            print(rating)\n",
    "    except Exception as e:\n",
    "        print(f\"Error: {str(e)}\")"
   ]
  },
  {
   "cell_type": "code",
   "execution_count": 38,
   "metadata": {},
   "outputs": [
    {
     "name": "stdout",
     "output_type": "stream",
     "text": [
      "\n"
     ]
    }
   ],
   "source": [
    "if __name__ == \"__main__\":\n",
    "    analyze_text()"
   ]
  }
 ],
 "metadata": {
  "kernelspec": {
   "display_name": ".venv",
   "language": "python",
   "name": "python3"
  },
  "language_info": {
   "codemirror_mode": {
    "name": "ipython",
    "version": 3
   },
   "file_extension": ".py",
   "mimetype": "text/x-python",
   "name": "python",
   "nbconvert_exporter": "python",
   "pygments_lexer": "ipython3",
   "version": "3.10.11"
  },
  "orig_nbformat": 4
 },
 "nbformat": 4,
 "nbformat_minor": 2
}
